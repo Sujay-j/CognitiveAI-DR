{
 "cells": [
  {
   "cell_type": "markdown",
   "metadata": {
    "button": false,
    "deletable": true,
    "run_control": {
     "read_only": false
    }
   },
   "source": [
    "Analysis Script: Dimension Reduction\n",
    "Developed by Konstantin Tskhay\n",
    "\n",
    "------------------------------------------\n",
    "\n",
    "# Dimension Reduction\n",
    "## Principal Component Analysis & Exploratory Factor Analysis\n",
    "\n",
    "### Steps:\n",
    "\n",
    "1. Import the data\n",
    "2. Load necessary packages\n",
    "3. Extract necessary data for PCA\n",
    "4. Set up all of the preconditions\n",
    "5. Run PCA/Visualizations\n",
    "6. Interpret the output\n",
    "7. Set up for EFA\n",
    "8. Run EFA/Visualizations\n",
    "9. Interpret the output\n",
    "10. Parallel Analysis (Horn, 1965)\n",
    "11. Mini-validation\n",
    "\n",
    "-----------------------------\n",
    "\n",
    "### *Note*. I would like to encourage you type your code--this practice ensures better retention. :)"
   ]
  },
  {
   "cell_type": "code",
   "execution_count": 5,
   "metadata": {
    "button": false,
    "collapsed": false,
    "deletable": true,
    "jupyter": {
     "outputs_hidden": false
    },
    "run_control": {
     "read_only": false
    }
   },
   "outputs": [
    {
     "name": "stderr",
     "output_type": "stream",
     "text": [
      "also installing the dependencies ‘tmvnsim’, ‘mnormt’\n",
      "\n",
      "Updating HTML index of packages in '.Library'\n",
      "Making 'packages.html' ... done\n",
      "Updating HTML index of packages in '.Library'\n",
      "Making 'packages.html' ... done\n"
     ]
    }
   ],
   "source": [
    "#Click in this cell and press Shift + Enter\n",
    "install.packages(\"psych\")\n",
    "install.packages(\"ggplot2\")"
   ]
  },
  {
   "cell_type": "markdown",
   "metadata": {
    "button": false,
    "deletable": true,
    "run_control": {
     "read_only": false
    }
   },
   "source": [
    "## Step 1: Import the data\n",
    "\n",
    "The data are in .csv format: 'new_prof_data.csv'\n",
    "\n",
    "Here is a brief description of the variables:\n",
    "\n",
    "\n",
    "1. **ID** = Observation ID\n",
    "2. **Prof.Name** = The name of the professor. Here, Name1 to Name213 are used\n",
    "3. **Present** = “Presents the material in an organized, well-planned manner.”\n",
    "4. **Explain** = “Explains concepts clearly and with appropriate use of examples.”\n",
    "5. **Communi** = “Communicates enthusiasm and interest in the course material.”\n",
    "6. **Teach** = “All things considered, performs effectively as a university teacher.”\n",
    "7. **Workload** = “Compared to other courses at the same level, the workload is…”\n",
    "8. **Difficulty** = “Compared to other courses at the same level, the level of difficulty of the material is…”\n",
    "9. **learn.Exp** = “The value of the overall learning experience is…”\n",
    "10. **Retake** = “Considering your experience with this course, and disregarding your need for it to meet program or degree requirements, would you still have taken this course?”\n",
    "11. **Inf.** = The aggregate influence score (Interpersonal Charisma Scale)\n",
    "12. **Kind** = The aggregate kindness score (Interpersonal Charisma Scale)\n",
    "\n",
    "\n",
    "**_Notes._**\n",
    "\n",
    "**Q3-Q6 scale**: 1 = extremely poor; 2 = very poor; 3 = poor; 4 = adequate; 5 = good; 6 = very good; 7 = outstanding\n",
    "\n",
    "**Q7-Q9 scale**: 1 = very low; 2 = low; 3 = below average; 4 = average; 5 = above average; 6 = high; 7 = very high\n",
    "\n",
    "**Q10 scale**: proportion of people out of 100 who would still take the course considering the experience\n",
    "\n",
    "**Q11-Q12 scale**: “I am someone who is…”; 1 = strongly disagree; 2 = moderately disagree; 3 = neither agree nor disagree; 4 = moderately agree; 5 = strongly agree\n",
    "\n"
   ]
  },
  {
   "cell_type": "markdown",
   "metadata": {
    "button": false,
    "deletable": true,
    "run_control": {
     "read_only": false
    }
   },
   "source": [
    "<br>"
   ]
  },
  {
   "cell_type": "markdown",
   "metadata": {
    "button": false,
    "deletable": true,
    "run_control": {
     "read_only": false
    }
   },
   "source": [
    "### Import data"
   ]
  },
  {
   "cell_type": "code",
   "execution_count": 6,
   "metadata": {
    "button": false,
    "collapsed": false,
    "deletable": true,
    "jupyter": {
     "outputs_hidden": false
    },
    "run_control": {
     "read_only": false
    }
   },
   "outputs": [
    {
     "data": {
      "text/html": [
       "<style>\n",
       ".list-inline {list-style: none; margin:0; padding: 0}\n",
       ".list-inline>li {display: inline-block}\n",
       ".list-inline>li:not(:last-child)::after {content: \"\\00b7\"; padding: 0 .5ex}\n",
       "</style>\n",
       "<ol class=list-inline><li>'ID'</li><li>'Prof.Name'</li><li>'Present'</li><li>'Explain'</li><li>'Communi'</li><li>'Teach'</li><li>'Workload'</li><li>'Difficulty'</li><li>'learn.Exp'</li><li>'Retake'</li><li>'Inf.'</li><li>'Kind'</li></ol>\n"
      ],
      "text/latex": [
       "\\begin{enumerate*}\n",
       "\\item 'ID'\n",
       "\\item 'Prof.Name'\n",
       "\\item 'Present'\n",
       "\\item 'Explain'\n",
       "\\item 'Communi'\n",
       "\\item 'Teach'\n",
       "\\item 'Workload'\n",
       "\\item 'Difficulty'\n",
       "\\item 'learn.Exp'\n",
       "\\item 'Retake'\n",
       "\\item 'Inf.'\n",
       "\\item 'Kind'\n",
       "\\end{enumerate*}\n"
      ],
      "text/markdown": [
       "1. 'ID'\n",
       "2. 'Prof.Name'\n",
       "3. 'Present'\n",
       "4. 'Explain'\n",
       "5. 'Communi'\n",
       "6. 'Teach'\n",
       "7. 'Workload'\n",
       "8. 'Difficulty'\n",
       "9. 'learn.Exp'\n",
       "10. 'Retake'\n",
       "11. 'Inf.'\n",
       "12. 'Kind'\n",
       "\n",
       "\n"
      ],
      "text/plain": [
       " [1] \"ID\"         \"Prof.Name\"  \"Present\"    \"Explain\"    \"Communi\"   \n",
       " [6] \"Teach\"      \"Workload\"   \"Difficulty\" \"learn.Exp\"  \"Retake\"    \n",
       "[11] \"Inf.\"       \"Kind\"      "
      ]
     },
     "metadata": {},
     "output_type": "display_data"
    },
    {
     "name": "stdout",
     "output_type": "stream",
     "text": [
      "'data.frame':\t213 obs. of  12 variables:\n",
      " $ ID        : int  1 2 3 4 5 6 7 8 9 10 ...\n",
      " $ Prof.Name : Factor w/ 213 levels \"Name1\",\"Name10\",..: 1 112 137 148 159 170 181 192 203 2 ...\n",
      " $ Present   : num  5.62 5.7 6.03 6.07 6.6 ...\n",
      " $ Explain   : num  6.28 5.65 6.47 6.35 6.45 ...\n",
      " $ Communi   : num  6.7 5.73 6.67 6.65 6.6 ...\n",
      " $ Teach     : num  6.33 5.52 6.47 6.43 6.55 ...\n",
      " $ Workload  : num  4.5 4.18 4.4 4.42 4.9 ...\n",
      " $ Difficulty: num  4.3 4.12 4.63 4.52 4.5 ...\n",
      " $ learn.Exp : num  5.83 4.55 6 5.92 6.05 ...\n",
      " $ Retake    : num  87.7 57.2 88.3 87 87.5 ...\n",
      " $ Inf.      : num  3.67 3.67 5 2.67 3.67 ...\n",
      " $ Kind      : num  4.67 4.67 4.33 4 4 ...\n"
     ]
    },
    {
     "data": {
      "text/plain": [
       "       ID        Prof.Name      Present         Explain         Communi     \n",
       " Min.   :  1   Name1  :  1   Min.   :3.925   Min.   :4.100   Min.   :4.800  \n",
       " 1st Qu.: 54   Name10 :  1   1st Qu.:5.350   1st Qu.:5.600   1st Qu.:5.950  \n",
       " Median :107   Name100:  1   Median :5.800   Median :5.900   Median :6.300  \n",
       " Mean   :107   Name101:  1   Mean   :5.711   Mean   :5.877   Mean   :6.211  \n",
       " 3rd Qu.:160   Name102:  1   3rd Qu.:6.100   3rd Qu.:6.300   3rd Qu.:6.550  \n",
       " Max.   :213   Name103:  1   Max.   :6.800   Max.   :6.800   Max.   :6.950  \n",
       "               (Other):207                                                  \n",
       "     Teach          Workload       Difficulty      learn.Exp    \n",
       " Min.   :4.100   Min.   :3.467   Min.   :3.600   Min.   :4.000  \n",
       " 1st Qu.:5.700   1st Qu.:4.200   1st Qu.:4.300   1st Qu.:5.000  \n",
       " Median :6.100   Median :4.500   Median :4.567   Median :5.350  \n",
       " Mean   :6.015   Mean   :4.572   Mean   :4.625   Mean   :5.367  \n",
       " 3rd Qu.:6.400   3rd Qu.:4.900   3rd Qu.:4.900   3rd Qu.:5.750  \n",
       " Max.   :7.000   Max.   :6.400   Max.   :6.200   Max.   :7.000  \n",
       "                                                                \n",
       "     Retake            Inf.            Kind      \n",
       " Min.   : 30.00   Min.   :1.000   Min.   :1.333  \n",
       " 1st Qu.: 71.00   1st Qu.:3.667   1st Qu.:3.333  \n",
       " Median : 83.00   Median :4.000   Median :4.000  \n",
       " Mean   : 79.54   Mean   :3.837   Mean   :3.847  \n",
       " 3rd Qu.: 90.00   3rd Qu.:4.333   3rd Qu.:4.333  \n",
       " Max.   :100.00   Max.   :5.000   Max.   :5.000  \n",
       "                                                 "
      ]
     },
     "metadata": {},
     "output_type": "display_data"
    },
    {
     "data": {
      "text/html": [
       "<table>\n",
       "<caption>A data.frame: 6 × 12</caption>\n",
       "<thead>\n",
       "\t<tr><th></th><th scope=col>ID</th><th scope=col>Prof.Name</th><th scope=col>Present</th><th scope=col>Explain</th><th scope=col>Communi</th><th scope=col>Teach</th><th scope=col>Workload</th><th scope=col>Difficulty</th><th scope=col>learn.Exp</th><th scope=col>Retake</th><th scope=col>Inf.</th><th scope=col>Kind</th></tr>\n",
       "\t<tr><th></th><th scope=col>&lt;int&gt;</th><th scope=col>&lt;fct&gt;</th><th scope=col>&lt;dbl&gt;</th><th scope=col>&lt;dbl&gt;</th><th scope=col>&lt;dbl&gt;</th><th scope=col>&lt;dbl&gt;</th><th scope=col>&lt;dbl&gt;</th><th scope=col>&lt;dbl&gt;</th><th scope=col>&lt;dbl&gt;</th><th scope=col>&lt;dbl&gt;</th><th scope=col>&lt;dbl&gt;</th><th scope=col>&lt;dbl&gt;</th></tr>\n",
       "</thead>\n",
       "<tbody>\n",
       "\t<tr><th scope=row>1</th><td>1</td><td>Name1</td><td>5.616667</td><td>6.283333</td><td>6.700000</td><td>6.333333</td><td>4.500000</td><td>4.300000</td><td>5.833333</td><td>87.66667</td><td>3.666667</td><td>4.666667</td></tr>\n",
       "\t<tr><th scope=row>2</th><td>2</td><td>Name2</td><td>5.700000</td><td>5.650000</td><td>5.733333</td><td>5.516667</td><td>4.183333</td><td>4.116667</td><td>4.550000</td><td>57.16667</td><td>3.666667</td><td>4.666667</td></tr>\n",
       "\t<tr><th scope=row>3</th><td>3</td><td>Name3</td><td>6.033333</td><td>6.466667</td><td>6.666667</td><td>6.466667</td><td>4.400000</td><td>4.633333</td><td>6.000000</td><td>88.33333</td><td>5.000000</td><td>4.333333</td></tr>\n",
       "\t<tr><th scope=row>4</th><td>4</td><td>Name4</td><td>6.066667</td><td>6.350000</td><td>6.650000</td><td>6.433333</td><td>4.416667</td><td>4.516667</td><td>5.916667</td><td>87.00000</td><td>2.666667</td><td>4.000000</td></tr>\n",
       "\t<tr><th scope=row>5</th><td>5</td><td>Name5</td><td>6.600000</td><td>6.450000</td><td>6.600000</td><td>6.550000</td><td>4.900000</td><td>4.500000</td><td>6.050000</td><td>87.50000</td><td>3.666667</td><td>4.000000</td></tr>\n",
       "\t<tr><th scope=row>6</th><td>6</td><td>Name6</td><td>5.950000</td><td>6.100000</td><td>6.350000</td><td>5.900000</td><td>5.100000</td><td>4.300000</td><td>5.850000</td><td>88.50000</td><td>2.000000</td><td>5.000000</td></tr>\n",
       "</tbody>\n",
       "</table>\n"
      ],
      "text/latex": [
       "A data.frame: 6 × 12\n",
       "\\begin{tabular}{r|llllllllllll}\n",
       "  & ID & Prof.Name & Present & Explain & Communi & Teach & Workload & Difficulty & learn.Exp & Retake & Inf. & Kind\\\\\n",
       "  & <int> & <fct> & <dbl> & <dbl> & <dbl> & <dbl> & <dbl> & <dbl> & <dbl> & <dbl> & <dbl> & <dbl>\\\\\n",
       "\\hline\n",
       "\t1 & 1 & Name1 & 5.616667 & 6.283333 & 6.700000 & 6.333333 & 4.500000 & 4.300000 & 5.833333 & 87.66667 & 3.666667 & 4.666667\\\\\n",
       "\t2 & 2 & Name2 & 5.700000 & 5.650000 & 5.733333 & 5.516667 & 4.183333 & 4.116667 & 4.550000 & 57.16667 & 3.666667 & 4.666667\\\\\n",
       "\t3 & 3 & Name3 & 6.033333 & 6.466667 & 6.666667 & 6.466667 & 4.400000 & 4.633333 & 6.000000 & 88.33333 & 5.000000 & 4.333333\\\\\n",
       "\t4 & 4 & Name4 & 6.066667 & 6.350000 & 6.650000 & 6.433333 & 4.416667 & 4.516667 & 5.916667 & 87.00000 & 2.666667 & 4.000000\\\\\n",
       "\t5 & 5 & Name5 & 6.600000 & 6.450000 & 6.600000 & 6.550000 & 4.900000 & 4.500000 & 6.050000 & 87.50000 & 3.666667 & 4.000000\\\\\n",
       "\t6 & 6 & Name6 & 5.950000 & 6.100000 & 6.350000 & 5.900000 & 5.100000 & 4.300000 & 5.850000 & 88.50000 & 2.000000 & 5.000000\\\\\n",
       "\\end{tabular}\n"
      ],
      "text/markdown": [
       "\n",
       "A data.frame: 6 × 12\n",
       "\n",
       "| <!--/--> | ID &lt;int&gt; | Prof.Name &lt;fct&gt; | Present &lt;dbl&gt; | Explain &lt;dbl&gt; | Communi &lt;dbl&gt; | Teach &lt;dbl&gt; | Workload &lt;dbl&gt; | Difficulty &lt;dbl&gt; | learn.Exp &lt;dbl&gt; | Retake &lt;dbl&gt; | Inf. &lt;dbl&gt; | Kind &lt;dbl&gt; |\n",
       "|---|---|---|---|---|---|---|---|---|---|---|---|---|\n",
       "| 1 | 1 | Name1 | 5.616667 | 6.283333 | 6.700000 | 6.333333 | 4.500000 | 4.300000 | 5.833333 | 87.66667 | 3.666667 | 4.666667 |\n",
       "| 2 | 2 | Name2 | 5.700000 | 5.650000 | 5.733333 | 5.516667 | 4.183333 | 4.116667 | 4.550000 | 57.16667 | 3.666667 | 4.666667 |\n",
       "| 3 | 3 | Name3 | 6.033333 | 6.466667 | 6.666667 | 6.466667 | 4.400000 | 4.633333 | 6.000000 | 88.33333 | 5.000000 | 4.333333 |\n",
       "| 4 | 4 | Name4 | 6.066667 | 6.350000 | 6.650000 | 6.433333 | 4.416667 | 4.516667 | 5.916667 | 87.00000 | 2.666667 | 4.000000 |\n",
       "| 5 | 5 | Name5 | 6.600000 | 6.450000 | 6.600000 | 6.550000 | 4.900000 | 4.500000 | 6.050000 | 87.50000 | 3.666667 | 4.000000 |\n",
       "| 6 | 6 | Name6 | 5.950000 | 6.100000 | 6.350000 | 5.900000 | 5.100000 | 4.300000 | 5.850000 | 88.50000 | 2.000000 | 5.000000 |\n",
       "\n"
      ],
      "text/plain": [
       "  ID Prof.Name Present  Explain  Communi  Teach    Workload Difficulty\n",
       "1 1  Name1     5.616667 6.283333 6.700000 6.333333 4.500000 4.300000  \n",
       "2 2  Name2     5.700000 5.650000 5.733333 5.516667 4.183333 4.116667  \n",
       "3 3  Name3     6.033333 6.466667 6.666667 6.466667 4.400000 4.633333  \n",
       "4 4  Name4     6.066667 6.350000 6.650000 6.433333 4.416667 4.516667  \n",
       "5 5  Name5     6.600000 6.450000 6.600000 6.550000 4.900000 4.500000  \n",
       "6 6  Name6     5.950000 6.100000 6.350000 5.900000 5.100000 4.300000  \n",
       "  learn.Exp Retake   Inf.     Kind    \n",
       "1 5.833333  87.66667 3.666667 4.666667\n",
       "2 4.550000  57.16667 3.666667 4.666667\n",
       "3 6.000000  88.33333 5.000000 4.333333\n",
       "4 5.916667  87.00000 2.666667 4.000000\n",
       "5 6.050000  87.50000 3.666667 4.000000\n",
       "6 5.850000  88.50000 2.000000 5.000000"
      ]
     },
     "metadata": {},
     "output_type": "display_data"
    }
   ],
   "source": [
    "## Read the data into an object named data\n",
    "data <- read.csv('https://ibm.box.com/shared/static/t77i51hp8ighrg8mfh2q0gepwcwjfupo.csv') #new_prof_data.csv\n",
    "\n",
    "## Examine data:\n",
    "names(data)\n",
    "str(data)\n",
    "summary(data)\n",
    "head(data)\n"
   ]
  },
  {
   "cell_type": "markdown",
   "metadata": {
    "button": false,
    "deletable": true,
    "run_control": {
     "read_only": false
    }
   },
   "source": [
    "## Step 2: Load necessary packages\n",
    "\n",
    "This will allow you to use functions needed for factor analysis and principal component analysis\n",
    "\n",
    "if you don't have these packages on your machine use the following line:\n",
    "\n",
    "    install.packages('package_name')\n",
    "    \n",
    "Where, *package_name* is the name of the package you are interested in"
   ]
  },
  {
   "cell_type": "code",
   "execution_count": 7,
   "metadata": {
    "button": false,
    "collapsed": false,
    "deletable": true,
    "jupyter": {
     "outputs_hidden": false
    },
    "run_control": {
     "read_only": false
    }
   },
   "outputs": [
    {
     "name": "stderr",
     "output_type": "stream",
     "text": [
      "\n",
      "Attaching package: ‘ggplot2’\n",
      "\n",
      "The following objects are masked from ‘package:psych’:\n",
      "\n",
      "    %+%, alpha\n",
      "\n"
     ]
    }
   ],
   "source": [
    "library(psych) ## for PCA and EFA \n",
    "library(ggplot2) ## for some Visuals"
   ]
  },
  {
   "cell_type": "markdown",
   "metadata": {
    "button": false,
    "deletable": true,
    "run_control": {
     "read_only": false
    }
   },
   "source": [
    "## Step 3: Extract necessary data for PCA\n",
    "\n",
    "This step is simple: select relevant columns.\n",
    "We want columns 3 through 8."
   ]
  },
  {
   "cell_type": "code",
   "execution_count": 8,
   "metadata": {
    "button": false,
    "collapsed": false,
    "deletable": true,
    "jupyter": {
     "outputs_hidden": false
    },
    "run_control": {
     "read_only": false
    }
   },
   "outputs": [
    {
     "data": {
      "text/html": [
       "<style>\n",
       ".list-inline {list-style: none; margin:0; padding: 0}\n",
       ".list-inline>li {display: inline-block}\n",
       ".list-inline>li:not(:last-child)::after {content: \"\\00b7\"; padding: 0 .5ex}\n",
       "</style>\n",
       "<ol class=list-inline><li>'ID'</li><li>'Prof.Name'</li><li>'Present'</li><li>'Explain'</li><li>'Communi'</li><li>'Teach'</li><li>'Workload'</li><li>'Difficulty'</li><li>'learn.Exp'</li><li>'Retake'</li><li>'Inf.'</li><li>'Kind'</li></ol>\n"
      ],
      "text/latex": [
       "\\begin{enumerate*}\n",
       "\\item 'ID'\n",
       "\\item 'Prof.Name'\n",
       "\\item 'Present'\n",
       "\\item 'Explain'\n",
       "\\item 'Communi'\n",
       "\\item 'Teach'\n",
       "\\item 'Workload'\n",
       "\\item 'Difficulty'\n",
       "\\item 'learn.Exp'\n",
       "\\item 'Retake'\n",
       "\\item 'Inf.'\n",
       "\\item 'Kind'\n",
       "\\end{enumerate*}\n"
      ],
      "text/markdown": [
       "1. 'ID'\n",
       "2. 'Prof.Name'\n",
       "3. 'Present'\n",
       "4. 'Explain'\n",
       "5. 'Communi'\n",
       "6. 'Teach'\n",
       "7. 'Workload'\n",
       "8. 'Difficulty'\n",
       "9. 'learn.Exp'\n",
       "10. 'Retake'\n",
       "11. 'Inf.'\n",
       "12. 'Kind'\n",
       "\n",
       "\n"
      ],
      "text/plain": [
       " [1] \"ID\"         \"Prof.Name\"  \"Present\"    \"Explain\"    \"Communi\"   \n",
       " [6] \"Teach\"      \"Workload\"   \"Difficulty\" \"learn.Exp\"  \"Retake\"    \n",
       "[11] \"Inf.\"       \"Kind\"      "
      ]
     },
     "metadata": {},
     "output_type": "display_data"
    },
    {
     "data": {
      "text/html": [
       "<style>\n",
       ".list-inline {list-style: none; margin:0; padding: 0}\n",
       ".list-inline>li {display: inline-block}\n",
       ".list-inline>li:not(:last-child)::after {content: \"\\00b7\"; padding: 0 .5ex}\n",
       "</style>\n",
       "<ol class=list-inline><li>'Present'</li><li>'Explain'</li><li>'Communi'</li><li>'Teach'</li><li>'Workload'</li><li>'Difficulty'</li></ol>\n"
      ],
      "text/latex": [
       "\\begin{enumerate*}\n",
       "\\item 'Present'\n",
       "\\item 'Explain'\n",
       "\\item 'Communi'\n",
       "\\item 'Teach'\n",
       "\\item 'Workload'\n",
       "\\item 'Difficulty'\n",
       "\\end{enumerate*}\n"
      ],
      "text/markdown": [
       "1. 'Present'\n",
       "2. 'Explain'\n",
       "3. 'Communi'\n",
       "4. 'Teach'\n",
       "5. 'Workload'\n",
       "6. 'Difficulty'\n",
       "\n",
       "\n"
      ],
      "text/plain": [
       "[1] \"Present\"    \"Explain\"    \"Communi\"    \"Teach\"      \"Workload\"  \n",
       "[6] \"Difficulty\""
      ]
     },
     "metadata": {},
     "output_type": "display_data"
    }
   ],
   "source": [
    "names(data) ## look up index\n",
    "comp.data <- data[,3:8] ## extract data\n",
    "names(comp.data) ## check"
   ]
  },
  {
   "cell_type": "markdown",
   "metadata": {
    "button": false,
    "deletable": true,
    "run_control": {
     "read_only": false
    }
   },
   "source": [
    "## Step 4: Set up all of the preconditions\n",
    "\n",
    "**Question**: Can we reduce the number of variables?\n",
    "**Answer**: Yes. Let's do it.\n",
    "\n",
    "  \n",
    "\n",
    "To do so, we need to see interrelationships between the variables.\n",
    "From before, we know that there may be 2 types of variables emerging.\n",
    "\n",
    "1. The variables that specify how good the professors are at communication\n",
    "2. The variables that track the course difficulty\n",
    "\n",
    "Let us examine whether this may be the case"
   ]
  },
  {
   "cell_type": "code",
   "execution_count": 9,
   "metadata": {
    "button": false,
    "collapsed": false,
    "deletable": true,
    "jupyter": {
     "outputs_hidden": false
    },
    "run_control": {
     "read_only": false
    }
   },
   "outputs": [
    {
     "data": {
      "text/html": [
       "<table>\n",
       "<caption>A matrix: 6 × 6 of type dbl</caption>\n",
       "<thead>\n",
       "\t<tr><th></th><th scope=col>Present</th><th scope=col>Explain</th><th scope=col>Communi</th><th scope=col>Teach</th><th scope=col>Workload</th><th scope=col>Difficulty</th></tr>\n",
       "</thead>\n",
       "<tbody>\n",
       "\t<tr><th scope=row>Present</th><td>1.000</td><td> 0.855</td><td>0.603</td><td>0.800</td><td>0.151</td><td> 0.043</td></tr>\n",
       "\t<tr><th scope=row>Explain</th><td>0.855</td><td> 1.000</td><td>0.756</td><td>0.891</td><td>0.056</td><td>-0.026</td></tr>\n",
       "\t<tr><th scope=row>Communi</th><td>0.603</td><td> 0.756</td><td>1.000</td><td>0.819</td><td>0.128</td><td> 0.060</td></tr>\n",
       "\t<tr><th scope=row>Teach</th><td>0.800</td><td> 0.891</td><td>0.819</td><td>1.000</td><td>0.138</td><td> 0.081</td></tr>\n",
       "\t<tr><th scope=row>Workload</th><td>0.151</td><td> 0.056</td><td>0.128</td><td>0.138</td><td>1.000</td><td> 0.719</td></tr>\n",
       "\t<tr><th scope=row>Difficulty</th><td>0.043</td><td>-0.026</td><td>0.060</td><td>0.081</td><td>0.719</td><td> 1.000</td></tr>\n",
       "</tbody>\n",
       "</table>\n"
      ],
      "text/latex": [
       "A matrix: 6 × 6 of type dbl\n",
       "\\begin{tabular}{r|llllll}\n",
       "  & Present & Explain & Communi & Teach & Workload & Difficulty\\\\\n",
       "\\hline\n",
       "\tPresent & 1.000 &  0.855 & 0.603 & 0.800 & 0.151 &  0.043\\\\\n",
       "\tExplain & 0.855 &  1.000 & 0.756 & 0.891 & 0.056 & -0.026\\\\\n",
       "\tCommuni & 0.603 &  0.756 & 1.000 & 0.819 & 0.128 &  0.060\\\\\n",
       "\tTeach & 0.800 &  0.891 & 0.819 & 1.000 & 0.138 &  0.081\\\\\n",
       "\tWorkload & 0.151 &  0.056 & 0.128 & 0.138 & 1.000 &  0.719\\\\\n",
       "\tDifficulty & 0.043 & -0.026 & 0.060 & 0.081 & 0.719 &  1.000\\\\\n",
       "\\end{tabular}\n"
      ],
      "text/markdown": [
       "\n",
       "A matrix: 6 × 6 of type dbl\n",
       "\n",
       "| <!--/--> | Present | Explain | Communi | Teach | Workload | Difficulty |\n",
       "|---|---|---|---|---|---|---|\n",
       "| Present | 1.000 |  0.855 | 0.603 | 0.800 | 0.151 |  0.043 |\n",
       "| Explain | 0.855 |  1.000 | 0.756 | 0.891 | 0.056 | -0.026 |\n",
       "| Communi | 0.603 |  0.756 | 1.000 | 0.819 | 0.128 |  0.060 |\n",
       "| Teach | 0.800 |  0.891 | 0.819 | 1.000 | 0.138 |  0.081 |\n",
       "| Workload | 0.151 |  0.056 | 0.128 | 0.138 | 1.000 |  0.719 |\n",
       "| Difficulty | 0.043 | -0.026 | 0.060 | 0.081 | 0.719 |  1.000 |\n",
       "\n"
      ],
      "text/plain": [
       "           Present Explain Communi Teach Workload Difficulty\n",
       "Present    1.000    0.855  0.603   0.800 0.151     0.043    \n",
       "Explain    0.855    1.000  0.756   0.891 0.056    -0.026    \n",
       "Communi    0.603    0.756  1.000   0.819 0.128     0.060    \n",
       "Teach      0.800    0.891  0.819   1.000 0.138     0.081    \n",
       "Workload   0.151    0.056  0.128   0.138 1.000     0.719    \n",
       "Difficulty 0.043   -0.026  0.060   0.081 0.719     1.000    "
      ]
     },
     "metadata": {},
     "output_type": "display_data"
    }
   ],
   "source": [
    "round(cor(comp.data), digits = 3) ## produces correlation matrix"
   ]
  },
  {
   "cell_type": "markdown",
   "metadata": {
    "button": false,
    "deletable": true,
    "run_control": {
     "read_only": false
    }
   },
   "source": [
    "You can see immediately that all communication variables are highly correlated. The difficulty variable correlates quite highly with the workload variable. However, there appears to be little overlap between communication and workload/difficulty variables.\n",
    "\n",
    "**This suggests that there are probably 2 components/factors in our data.**\n",
    "\n",
    "However, this example is simple because here we see a separation of the variables in the correlation matrix and know that the variables will probably split *a priori*. The data we work with in the real world are more complex, however.\n",
    "\n",
    "    e.g., 20, 100, 1000, 10000 variables\n",
    "    \n",
    "Now, imagine trying to identify how these variables form components or factors using correlation matrix or some type of hypothesis driven reasoning! It is practically impossible!\n",
    "\n",
    "----------------------------\n",
    "### Decision Rules:\n",
    "1. Probably 2 components (Communication, Workload)\n",
    "2. The components are probably orthogonal\n",
    "3. Check it empirically"
   ]
  },
  {
   "cell_type": "markdown",
   "metadata": {
    "button": false,
    "deletable": true,
    "run_control": {
     "read_only": false
    }
   },
   "source": [
    "## Step 5 & 6: Run PCA/Visualizations & Interpret the output"
   ]
  },
  {
   "cell_type": "code",
   "execution_count": 10,
   "metadata": {
    "button": false,
    "collapsed": false,
    "deletable": true,
    "jupyter": {
     "outputs_hidden": false
    },
    "run_control": {
     "read_only": false
    }
   },
   "outputs": [
    {
     "name": "stdout",
     "output_type": "stream",
     "text": [
      "Standard deviations (1, .., p=6):\n",
      "[1] 1.8443717 1.3029063 0.6424267 0.5268562 0.3459505 0.3012588\n",
      "\n",
      "Rotation (n x k) = (6 x 6):\n",
      "                 PC1         PC2         PC3         PC4         PC5\n",
      "Present    0.4812739  0.04614410 -0.63443650 -0.03777691  0.55990582\n",
      "Explain    0.5127898  0.12651133 -0.16342075 -0.06968290 -0.34260959\n",
      "Communi    0.4670223  0.04023162  0.73502722  0.15324099  0.46160796\n",
      "Teach      0.5188259  0.04304370  0.10233296 -0.10077104 -0.58073509\n",
      "Workload   0.1167782 -0.69214922 -0.11178861  0.69377824 -0.11331686\n",
      "Difficulty 0.0670437 -0.70662842  0.08689213 -0.69191860  0.07712509\n",
      "                   PC6\n",
      "Present    -0.22094091\n",
      "Explain     0.75637171\n",
      "Communi     0.05866729\n",
      "Teach      -0.60916901\n",
      "Workload    0.02503335\n",
      "Difficulty  0.06270205\n"
     ]
    },
    {
     "data": {
      "text/html": [
       "<style>\n",
       ".list-inline {list-style: none; margin:0; padding: 0}\n",
       ".list-inline>li {display: inline-block}\n",
       ".list-inline>li:not(:last-child)::after {content: \"\\00b7\"; padding: 0 .5ex}\n",
       "</style>\n",
       "<ol class=list-inline><li>3.40170691911828</li><li>1.69756491266324</li><li>0.412712107230033</li><li>0.277577475329175</li><li>0.119681737474689</li><li>0.090756848184587</li></ol>\n"
      ],
      "text/latex": [
       "\\begin{enumerate*}\n",
       "\\item 3.40170691911828\n",
       "\\item 1.69756491266324\n",
       "\\item 0.412712107230033\n",
       "\\item 0.277577475329175\n",
       "\\item 0.119681737474689\n",
       "\\item 0.090756848184587\n",
       "\\end{enumerate*}\n"
      ],
      "text/markdown": [
       "1. 3.40170691911828\n",
       "2. 1.69756491266324\n",
       "3. 0.412712107230033\n",
       "4. 0.277577475329175\n",
       "5. 0.119681737474689\n",
       "6. 0.090756848184587\n",
       "\n",
       "\n"
      ],
      "text/plain": [
       "[1] 3.40170692 1.69756491 0.41271211 0.27757748 0.11968174 0.09075685"
      ]
     },
     "metadata": {},
     "output_type": "display_data"
    }
   ],
   "source": [
    "pcaSolution <- prcomp(comp.data, center = TRUE, scale. = TRUE) \n",
    "\n",
    "## Produced the object with standard deviatons of all variables\n",
    "## and Rotation -- or the loadings on the principal components\n",
    "\n",
    "print(pcaSolution) ## prints PCA solution\n",
    "\n",
    "pcaSolution$sdev^2"
   ]
  },
  {
   "cell_type": "markdown",
   "metadata": {
    "button": false,
    "deletable": true,
    "run_control": {
     "read_only": false
    }
   },
   "source": [
    "### Let's create the Scree plot: Variance explained versus components"
   ]
  },
  {
   "cell_type": "code",
   "execution_count": 11,
   "metadata": {
    "button": false,
    "collapsed": false,
    "deletable": true,
    "jupyter": {
     "outputs_hidden": false
    },
    "run_control": {
     "read_only": false
    }
   },
   "outputs": [
    {
     "data": {
      "image/png": "[encoded data removed]",
      "text/plain": [
       "Plot with title “pcaSolution”"
      ]
     },
     "metadata": {},
     "output_type": "display_data",
     "source": "R display func"
    }
   ],
   "source": [
    "plot(pcaSolution, type = \"l\", pch = 16, lwd = 2) ## generates a scree plot"
   ]
  },
  {
   "cell_type": "markdown",
   "metadata": {
    "button": false,
    "deletable": true,
    "run_control": {
     "read_only": false
    }
   },
   "source": [
    "This figure will help us to decide how many components we should extract.\n",
    "The first two PC explain most of the variability in the data--so, probably 2 components to extract.\n",
    "\n",
    "Let's see how important each component is in a different way: Take a look of proportion of variance explained (second line in the output table below)"
   ]
  },
  {
   "cell_type": "code",
   "execution_count": 12,
   "metadata": {
    "button": false,
    "collapsed": false,
    "deletable": true,
    "jupyter": {
     "outputs_hidden": false
    },
    "run_control": {
     "read_only": false
    }
   },
   "outputs": [
    {
     "data": {
      "text/plain": [
       "Importance of components:\n",
       "                          PC1    PC2     PC3     PC4     PC5     PC6\n",
       "Standard deviation     1.8444 1.3029 0.64243 0.52686 0.34595 0.30126\n",
       "Proportion of Variance 0.5669 0.2829 0.06879 0.04626 0.01995 0.01513\n",
       "Cumulative Proportion  0.5669 0.8499 0.91866 0.96493 0.98487 1.00000"
      ]
     },
     "metadata": {},
     "output_type": "display_data"
    }
   ],
   "source": [
    "summary(pcaSolution)\n"
   ]
  },
  {
   "cell_type": "code",
   "execution_count": 13,
   "metadata": {
    "button": false,
    "collapsed": false,
    "deletable": true,
    "jupyter": {
     "outputs_hidden": false
    },
    "run_control": {
     "read_only": false
    }
   },
   "outputs": [
    {
     "data": {
      "text/html": [
       "0.8498"
      ],
      "text/latex": [
       "0.8498"
      ],
      "text/markdown": [
       "0.8498"
      ],
      "text/plain": [
       "[1] 0.8498"
      ]
     },
     "metadata": {},
     "output_type": "display_data"
    }
   ],
   "source": [
    "0.5669 + 0.2829 ## proportion of matrix variance explained by the \n",
    "                ## first 2 components"
   ]
  },
  {
   "cell_type": "markdown",
   "metadata": {
    "button": false,
    "deletable": true,
    "run_control": {
     "read_only": false
    }
   },
   "source": [
    "### What items fall on each component?\n",
    "\n",
    "Well, we can take a look at that examining, pcaSolution's matrix:"
   ]
  },
  {
   "cell_type": "code",
   "execution_count": 14,
   "metadata": {
    "button": false,
    "collapsed": false,
    "deletable": true,
    "jupyter": {
     "outputs_hidden": false
    },
    "run_control": {
     "read_only": false
    }
   },
   "outputs": [
    {
     "data": {
      "text/html": [
       "<table>\n",
       "<caption>A matrix: 6 × 2 of type dbl</caption>\n",
       "<thead>\n",
       "\t<tr><th></th><th scope=col>PC1</th><th scope=col>PC2</th></tr>\n",
       "</thead>\n",
       "<tbody>\n",
       "\t<tr><th scope=row>Present</th><td>0.4812739</td><td> 0.04614410</td></tr>\n",
       "\t<tr><th scope=row>Explain</th><td>0.5127898</td><td> 0.12651133</td></tr>\n",
       "\t<tr><th scope=row>Communi</th><td>0.4670223</td><td> 0.04023162</td></tr>\n",
       "\t<tr><th scope=row>Teach</th><td>0.5188259</td><td> 0.04304370</td></tr>\n",
       "\t<tr><th scope=row>Workload</th><td>0.1167782</td><td>-0.69214922</td></tr>\n",
       "\t<tr><th scope=row>Difficulty</th><td>0.0670437</td><td>-0.70662842</td></tr>\n",
       "</tbody>\n",
       "</table>\n"
      ],
      "text/latex": [
       "A matrix: 6 × 2 of type dbl\n",
       "\\begin{tabular}{r|ll}\n",
       "  & PC1 & PC2\\\\\n",
       "\\hline\n",
       "\tPresent & 0.4812739 &  0.04614410\\\\\n",
       "\tExplain & 0.5127898 &  0.12651133\\\\\n",
       "\tCommuni & 0.4670223 &  0.04023162\\\\\n",
       "\tTeach & 0.5188259 &  0.04304370\\\\\n",
       "\tWorkload & 0.1167782 & -0.69214922\\\\\n",
       "\tDifficulty & 0.0670437 & -0.70662842\\\\\n",
       "\\end{tabular}\n"
      ],
      "text/markdown": [
       "\n",
       "A matrix: 6 × 2 of type dbl\n",
       "\n",
       "| <!--/--> | PC1 | PC2 |\n",
       "|---|---|---|\n",
       "| Present | 0.4812739 |  0.04614410 |\n",
       "| Explain | 0.5127898 |  0.12651133 |\n",
       "| Communi | 0.4670223 |  0.04023162 |\n",
       "| Teach | 0.5188259 |  0.04304370 |\n",
       "| Workload | 0.1167782 | -0.69214922 |\n",
       "| Difficulty | 0.0670437 | -0.70662842 |\n",
       "\n"
      ],
      "text/plain": [
       "           PC1       PC2        \n",
       "Present    0.4812739  0.04614410\n",
       "Explain    0.5127898  0.12651133\n",
       "Communi    0.4670223  0.04023162\n",
       "Teach      0.5188259  0.04304370\n",
       "Workload   0.1167782 -0.69214922\n",
       "Difficulty 0.0670437 -0.70662842"
      ]
     },
     "metadata": {},
     "output_type": "display_data"
    }
   ],
   "source": [
    "pcaSolution$rotation[,1:2] ## only looks at the first 2 components"
   ]
  },
  {
   "cell_type": "markdown",
   "metadata": {
    "button": false,
    "deletable": true,
    "run_control": {
     "read_only": false
    }
   },
   "source": [
    "**Everything is pretty much as expected!**\n",
    "\n",
    "**Let's create a visual of the components now:**"
   ]
  },
  {
   "cell_type": "code",
   "execution_count": 15,
   "metadata": {
    "button": false,
    "collapsed": false,
    "deletable": true,
    "jupyter": {
     "outputs_hidden": false
    },
    "run_control": {
     "read_only": false
    }
   },
   "outputs": [
    {
     "data": {},
     "metadata": {},
     "output_type": "display_data"
    },
    {
     "data": {
      "image/png": "[encoded data removed]",
      "text/plain": [
       "plot without title"
      ]
     },
     "metadata": {},
     "output_type": "display_data",
     "source": "R display func"
    }
   ],
   "source": [
    "theta <- seq(0,2*pi,length.out = 100)\n",
    "circle <- data.frame(x = cos(theta), y = sin(theta))\n",
    "p <- ggplot(circle, aes(x,y)) + geom_path()\n",
    "\n",
    "loadings <- data.frame(pcaSolution$rotation, .names = row.names(pcaSolution$rotation))\n",
    "p + geom_text(data=loadings, \n",
    "              mapping=aes(x = PC1, y = PC2, label = .names, colour = .names)) +\n",
    "        coord_fixed(ratio=1) +\n",
    "        labs(x = \"PC1\", y = \"PC2\") +\n",
    "        theme_bw()"
   ]
  },
  {
   "cell_type": "markdown",
   "metadata": {
    "button": false,
    "deletable": true,
    "run_control": {
     "read_only": false
    }
   },
   "source": [
    "This last step is not necessary, however it is a decent visualization. Basically shows that the 2 factors are orthogonal and that the communication variables tend to map onto the first component and that the difficulty variables tend to map on the second component. Naturally, when you have more variables, the circle will be more complex and less conducive to presentation or interpretation. "
   ]
  },
  {
   "cell_type": "markdown",
   "metadata": {
    "button": false,
    "deletable": true,
    "run_control": {
     "read_only": false
    }
   },
   "source": [
    "## Step 7: Set up for EFA\n",
    "\n",
    "Once again, you want to first extract the relevant data. Typically people will do either PCA or EFA, depending on their research question, which informs the selection of the technique. Factor analysis is used when you think that something bigger than the variables at hand causes those variables and interrelationships between those variables. In other words, you assume that your indicators, measured variables, are not measured perfectly. EFA is very common in survey research, including customer satistaction surveys and personality measurement. \n",
    "\n",
    "    e.g., suppose your respondents answer some questions about how \"outgoing\" they are and how \"sociable\" they are. We assume further that an underlying personality of Extraversion causes people to choose greater number if they are extraverted and lower numbers if they are introveted! That is, people who are extraverted are expected to say that they are more \"outgoing\" and \"sociable\" than people who are introverted. We say here, then that extraversion construct (factor) causes systematic variance in reponses to items, but also that the measures are not perfect indicators of extraversion. So what is important here, is the shared variance between the items. \n",
    "    \n",
    "### Factor analysis allows us to identify this latent construct\n",
    "\n",
    "Okay, now we will:\n",
    "\n",
    "**1. Extract the relevant data**\n",
    "\n"
   ]
  },
  {
   "cell_type": "code",
   "execution_count": 16,
   "metadata": {
    "button": false,
    "collapsed": false,
    "deletable": true,
    "jupyter": {
     "outputs_hidden": false
    },
    "run_control": {
     "read_only": false
    }
   },
   "outputs": [
    {
     "data": {
      "text/html": [
       "<style>\n",
       ".list-inline {list-style: none; margin:0; padding: 0}\n",
       ".list-inline>li {display: inline-block}\n",
       ".list-inline>li:not(:last-child)::after {content: \"\\00b7\"; padding: 0 .5ex}\n",
       "</style>\n",
       "<ol class=list-inline><li>'ID'</li><li>'Prof.Name'</li><li>'Present'</li><li>'Explain'</li><li>'Communi'</li><li>'Teach'</li><li>'Workload'</li><li>'Difficulty'</li><li>'learn.Exp'</li><li>'Retake'</li><li>'Inf.'</li><li>'Kind'</li></ol>\n"
      ],
      "text/latex": [
       "\\begin{enumerate*}\n",
       "\\item 'ID'\n",
       "\\item 'Prof.Name'\n",
       "\\item 'Present'\n",
       "\\item 'Explain'\n",
       "\\item 'Communi'\n",
       "\\item 'Teach'\n",
       "\\item 'Workload'\n",
       "\\item 'Difficulty'\n",
       "\\item 'learn.Exp'\n",
       "\\item 'Retake'\n",
       "\\item 'Inf.'\n",
       "\\item 'Kind'\n",
       "\\end{enumerate*}\n"
      ],
      "text/markdown": [
       "1. 'ID'\n",
       "2. 'Prof.Name'\n",
       "3. 'Present'\n",
       "4. 'Explain'\n",
       "5. 'Communi'\n",
       "6. 'Teach'\n",
       "7. 'Workload'\n",
       "8. 'Difficulty'\n",
       "9. 'learn.Exp'\n",
       "10. 'Retake'\n",
       "11. 'Inf.'\n",
       "12. 'Kind'\n",
       "\n",
       "\n"
      ],
      "text/plain": [
       " [1] \"ID\"         \"Prof.Name\"  \"Present\"    \"Explain\"    \"Communi\"   \n",
       " [6] \"Teach\"      \"Workload\"   \"Difficulty\" \"learn.Exp\"  \"Retake\"    \n",
       "[11] \"Inf.\"       \"Kind\"      "
      ]
     },
     "metadata": {},
     "output_type": "display_data"
    },
    {
     "data": {
      "text/html": [
       "<style>\n",
       ".list-inline {list-style: none; margin:0; padding: 0}\n",
       ".list-inline>li {display: inline-block}\n",
       ".list-inline>li:not(:last-child)::after {content: \"\\00b7\"; padding: 0 .5ex}\n",
       "</style>\n",
       "<ol class=list-inline><li>'Present'</li><li>'Explain'</li><li>'Communi'</li><li>'Teach'</li><li>'Workload'</li><li>'Difficulty'</li></ol>\n"
      ],
      "text/latex": [
       "\\begin{enumerate*}\n",
       "\\item 'Present'\n",
       "\\item 'Explain'\n",
       "\\item 'Communi'\n",
       "\\item 'Teach'\n",
       "\\item 'Workload'\n",
       "\\item 'Difficulty'\n",
       "\\end{enumerate*}\n"
      ],
      "text/markdown": [
       "1. 'Present'\n",
       "2. 'Explain'\n",
       "3. 'Communi'\n",
       "4. 'Teach'\n",
       "5. 'Workload'\n",
       "6. 'Difficulty'\n",
       "\n",
       "\n"
      ],
      "text/plain": [
       "[1] \"Present\"    \"Explain\"    \"Communi\"    \"Teach\"      \"Workload\"  \n",
       "[6] \"Difficulty\""
      ]
     },
     "metadata": {},
     "output_type": "display_data"
    }
   ],
   "source": [
    "## note that I am using exactly the same code as in PCA, \n",
    "## except that I am naming the object differently\n",
    "\n",
    "names(data) ## look up index\n",
    "factor.data <- data[,3:8] ## extract data\n",
    "names(factor.data) ## check"
   ]
  },
  {
   "cell_type": "markdown",
   "metadata": {
    "button": false,
    "deletable": true,
    "run_control": {
     "read_only": false
    }
   },
   "source": [
    "**2. Decide on the number of factors to extract**"
   ]
  },
  {
   "cell_type": "code",
   "execution_count": 17,
   "metadata": {
    "button": false,
    "collapsed": false,
    "deletable": true,
    "jupyter": {
     "outputs_hidden": false
    },
    "run_control": {
     "read_only": false
    }
   },
   "outputs": [
    {
     "data": {
      "text/plain": [
       "eigen() decomposition\n",
       "$values\n",
       "[1] 3.40170692 1.69756491 0.41271211 0.27757748 0.11968174 0.09075685\n",
       "\n",
       "$vectors\n",
       "           [,1]        [,2]        [,3]        [,4]        [,5]        [,6]\n",
       "[1,] -0.4812739 -0.04614410  0.63443650  0.03777691  0.55990582 -0.22094091\n",
       "[2,] -0.5127898 -0.12651133  0.16342075  0.06968290 -0.34260959  0.75637171\n",
       "[3,] -0.4670223 -0.04023162 -0.73502722 -0.15324099  0.46160796  0.05866729\n",
       "[4,] -0.5188259 -0.04304370 -0.10233296  0.10077104 -0.58073509 -0.60916901\n",
       "[5,] -0.1167782  0.69214922  0.11178861 -0.69377824 -0.11331686  0.02503335\n",
       "[6,] -0.0670437  0.70662842 -0.08689213  0.69191860  0.07712509  0.06270205\n"
      ]
     },
     "metadata": {},
     "output_type": "display_data"
    }
   ],
   "source": [
    "eigen.values <- eigen(cor(factor.data)) ## extract eigenvalues from cor()\n",
    "eigen.values ## note that eigenvalues are simply squared st.devs from before! "
   ]
  },
  {
   "cell_type": "markdown",
   "metadata": {
    "button": false,
    "deletable": true,
    "run_control": {
     "read_only": false
    }
   },
   "source": [
    "Create a new scree plot"
   ]
  },
  {
   "cell_type": "code",
   "execution_count": 18,
   "metadata": {
    "button": false,
    "collapsed": false,
    "deletable": true,
    "jupyter": {
     "outputs_hidden": false
    },
    "run_control": {
     "read_only": false
    }
   },
   "outputs": [
    {
     "data": {
      "image/png": "[encoded data removed]",
      "text/plain": [
       "plot without title"
      ]
     },
     "metadata": {},
     "output_type": "display_data",
     "source": "R display func"
    }
   ],
   "source": [
    "plot(eigen.values$values, type=\"l\", ylab = 'Unrotated Eigenvalues',\n",
    "    xlab = 'Components', lwd = 3)"
   ]
  },
  {
   "cell_type": "markdown",
   "metadata": {
    "button": false,
    "deletable": true,
    "run_control": {
     "read_only": false
    }
   },
   "source": [
    "Once again, we see that 2 factors explain most of the variance. \n",
    "\n",
    "Further, you also need to select the factors based on the eigen values themselves they should be greater than 1. Again, the solution is 2. "
   ]
  },
  {
   "cell_type": "code",
   "execution_count": 19,
   "metadata": {
    "button": false,
    "collapsed": false,
    "deletable": true,
    "jupyter": {
     "outputs_hidden": false
    },
    "run_control": {
     "read_only": false
    }
   },
   "outputs": [
    {
     "data": {
      "text/html": [
       "<style>\n",
       ".list-inline {list-style: none; margin:0; padding: 0}\n",
       ".list-inline>li {display: inline-block}\n",
       ".list-inline>li:not(:last-child)::after {content: \"\\00b7\"; padding: 0 .5ex}\n",
       "</style>\n",
       "<ol class=list-inline><li>0.566951153186379</li><li>0.282927485443873</li><li>0.0687853512050055</li><li>0.0462629125548626</li><li>0.0199469562457815</li><li>0.0151261413640979</li></ol>\n"
      ],
      "text/latex": [
       "\\begin{enumerate*}\n",
       "\\item 0.566951153186379\n",
       "\\item 0.282927485443873\n",
       "\\item 0.0687853512050055\n",
       "\\item 0.0462629125548626\n",
       "\\item 0.0199469562457815\n",
       "\\item 0.0151261413640979\n",
       "\\end{enumerate*}\n"
      ],
      "text/markdown": [
       "1. 0.566951153186379\n",
       "2. 0.282927485443873\n",
       "3. 0.0687853512050055\n",
       "4. 0.0462629125548626\n",
       "5. 0.0199469562457815\n",
       "6. 0.0151261413640979\n",
       "\n",
       "\n"
      ],
      "text/plain": [
       "[1] 0.56695115 0.28292749 0.06878535 0.04626291 0.01994696 0.01512614"
      ]
     },
     "metadata": {},
     "output_type": "display_data"
    },
    {
     "data": {
      "text/html": [
       "0.849878638630253"
      ],
      "text/latex": [
       "0.849878638630253"
      ],
      "text/markdown": [
       "0.849878638630253"
      ],
      "text/plain": [
       "[1] 0.8498786"
      ]
     },
     "metadata": {},
     "output_type": "display_data"
    }
   ],
   "source": [
    "eigen.values$values/(sum(eigen.values$values)) ## compute proportion of \n",
    "                                               ##total variance\n",
    "\n",
    "## How much variance due to the first 2 factors?\n",
    "sum((eigen.values$values/(sum(eigen.values$values)))[c(1, 2)])"
   ]
  },
  {
   "cell_type": "markdown",
   "metadata": {
    "button": false,
    "deletable": true,
    "run_control": {
     "read_only": false
    }
   },
   "source": [
    "Okay, we meet the three major standards (see parallel analysis later for an alternative result). "
   ]
  },
  {
   "cell_type": "markdown",
   "metadata": {
    "button": false,
    "deletable": true,
    "run_control": {
     "read_only": false
    }
   },
   "source": [
    "**3. What kind of rotation to use?**\n",
    "\n",
    "Here, we do not truly need to be exactly data driven. All previous work has demonstrated that orthogonal rotation would be preferable. \n",
    "\n",
    "Use: **Varimax** to increase the distance between factors. \n",
    "\n",
    "** 4. What would you want as a factoring method?**\n",
    "\n",
    "Here, we will use principal axis factoring [most commonly used method in psychology research]. \n",
    "\n",
    "This says to place factor communalities in the diagonal, which would estimate the residual variation, stating that the factors do not explain all of the variance. In PCA, the 1s are retained across the diagonal. \n",
    "\n",
    "### Let's Recap the Pre-processing steps & Decisions:\n",
    "\n",
    "1. Data extracted\n",
    "2. Number of factors k = 2\n",
    "3. Rotation: Orthogonal rotation\n",
    "4. Factoring method: Principal Axis Factoring (PA)\n",
    "\n",
    "Let's do it!"
   ]
  },
  {
   "cell_type": "markdown",
   "metadata": {
    "button": false,
    "deletable": true,
    "run_control": {
     "read_only": false
    }
   },
   "source": [
    "## Step 8 & 9: Run EFA/Visualizations & Interpret the output\n",
    "\n",
    "**Get the correlation matrix**"
   ]
  },
  {
   "cell_type": "code",
   "execution_count": 20,
   "metadata": {
    "button": false,
    "collapsed": false,
    "deletable": true,
    "jupyter": {
     "outputs_hidden": false
    },
    "run_control": {
     "read_only": false
    }
   },
   "outputs": [
    {
     "data": {
      "text/html": [
       "<table>\n",
       "<caption>A matrix: 6 × 6 of type dbl</caption>\n",
       "<thead>\n",
       "\t<tr><th></th><th scope=col>Present</th><th scope=col>Explain</th><th scope=col>Communi</th><th scope=col>Teach</th><th scope=col>Workload</th><th scope=col>Difficulty</th></tr>\n",
       "</thead>\n",
       "<tbody>\n",
       "\t<tr><th scope=row>Present</th><td>1.000</td><td> 0.855</td><td>0.603</td><td>0.800</td><td>0.151</td><td> 0.043</td></tr>\n",
       "\t<tr><th scope=row>Explain</th><td>0.855</td><td> 1.000</td><td>0.756</td><td>0.891</td><td>0.056</td><td>-0.026</td></tr>\n",
       "\t<tr><th scope=row>Communi</th><td>0.603</td><td> 0.756</td><td>1.000</td><td>0.819</td><td>0.128</td><td> 0.060</td></tr>\n",
       "\t<tr><th scope=row>Teach</th><td>0.800</td><td> 0.891</td><td>0.819</td><td>1.000</td><td>0.138</td><td> 0.081</td></tr>\n",
       "\t<tr><th scope=row>Workload</th><td>0.151</td><td> 0.056</td><td>0.128</td><td>0.138</td><td>1.000</td><td> 0.719</td></tr>\n",
       "\t<tr><th scope=row>Difficulty</th><td>0.043</td><td>-0.026</td><td>0.060</td><td>0.081</td><td>0.719</td><td> 1.000</td></tr>\n",
       "</tbody>\n",
       "</table>\n"
      ],
      "text/latex": [
       "A matrix: 6 × 6 of type dbl\n",
       "\\begin{tabular}{r|llllll}\n",
       "  & Present & Explain & Communi & Teach & Workload & Difficulty\\\\\n",
       "\\hline\n",
       "\tPresent & 1.000 &  0.855 & 0.603 & 0.800 & 0.151 &  0.043\\\\\n",
       "\tExplain & 0.855 &  1.000 & 0.756 & 0.891 & 0.056 & -0.026\\\\\n",
       "\tCommuni & 0.603 &  0.756 & 1.000 & 0.819 & 0.128 &  0.060\\\\\n",
       "\tTeach & 0.800 &  0.891 & 0.819 & 1.000 & 0.138 &  0.081\\\\\n",
       "\tWorkload & 0.151 &  0.056 & 0.128 & 0.138 & 1.000 &  0.719\\\\\n",
       "\tDifficulty & 0.043 & -0.026 & 0.060 & 0.081 & 0.719 &  1.000\\\\\n",
       "\\end{tabular}\n"
      ],
      "text/markdown": [
       "\n",
       "A matrix: 6 × 6 of type dbl\n",
       "\n",
       "| <!--/--> | Present | Explain | Communi | Teach | Workload | Difficulty |\n",
       "|---|---|---|---|---|---|---|\n",
       "| Present | 1.000 |  0.855 | 0.603 | 0.800 | 0.151 |  0.043 |\n",
       "| Explain | 0.855 |  1.000 | 0.756 | 0.891 | 0.056 | -0.026 |\n",
       "| Communi | 0.603 |  0.756 | 1.000 | 0.819 | 0.128 |  0.060 |\n",
       "| Teach | 0.800 |  0.891 | 0.819 | 1.000 | 0.138 |  0.081 |\n",
       "| Workload | 0.151 |  0.056 | 0.128 | 0.138 | 1.000 |  0.719 |\n",
       "| Difficulty | 0.043 | -0.026 | 0.060 | 0.081 | 0.719 |  1.000 |\n",
       "\n"
      ],
      "text/plain": [
       "           Present Explain Communi Teach Workload Difficulty\n",
       "Present    1.000    0.855  0.603   0.800 0.151     0.043    \n",
       "Explain    0.855    1.000  0.756   0.891 0.056    -0.026    \n",
       "Communi    0.603    0.756  1.000   0.819 0.128     0.060    \n",
       "Teach      0.800    0.891  0.819   1.000 0.138     0.081    \n",
       "Workload   0.151    0.056  0.128   0.138 1.000     0.719    \n",
       "Difficulty 0.043   -0.026  0.060   0.081 0.719     1.000    "
      ]
     },
     "metadata": {},
     "output_type": "display_data"
    }
   ],
   "source": [
    "corMat <- round(cor(factor.data), digits = 3)\n",
    "corMat"
   ]
  },
  {
   "cell_type": "markdown",
   "metadata": {
    "button": false,
    "deletable": true,
    "run_control": {
     "read_only": false
    }
   },
   "source": [
    "**Run exploratory factor analysis**"
   ]
  },
  {
   "cell_type": "code",
   "execution_count": 21,
   "metadata": {
    "button": false,
    "collapsed": false,
    "deletable": true,
    "jupyter": {
     "outputs_hidden": false
    },
    "run_control": {
     "read_only": false
    }
   },
   "outputs": [
    {
     "data": {
      "text/plain": [
       "Factor Analysis using method =  pa\n",
       "Call: fa(r = corMat, nfactors = 2, rotate = \"varimax\", fm = \"pa\")\n",
       "Standardized loadings (pattern matrix) based upon correlation matrix\n",
       "            PA1   PA2   h2    u2 com\n",
       "Present    0.83  0.06 0.70 0.303   1\n",
       "Explain    0.97 -0.04 0.94 0.059   1\n",
       "Communi    0.79  0.06 0.63 0.374   1\n",
       "Teach      0.96  0.07 0.93 0.069   1\n",
       "Workload   0.10  0.85 0.73 0.273   1\n",
       "Difficulty 0.01  0.85 0.72 0.283   1\n",
       "\n",
       "                       PA1  PA2\n",
       "SS loadings           3.19 1.45\n",
       "Proportion Var        0.53 0.24\n",
       "Cumulative Var        0.53 0.77\n",
       "Proportion Explained  0.69 0.31\n",
       "Cumulative Proportion 0.69 1.00\n",
       "\n",
       "Mean item complexity =  1\n",
       "Test of the hypothesis that 2 factors are sufficient.\n",
       "\n",
       "The degrees of freedom for the null model are  15  and the objective function was  4.94\n",
       "The degrees of freedom for the model are 4  and the objective function was  0.39 \n",
       "\n",
       "The root mean square of the residuals (RMSR) is  0.03 \n",
       "The df corrected root mean square of the residuals is  0.05 \n",
       "\n",
       "Fit based upon off diagonal values = 1\n",
       "Measures of factor score adequacy             \n",
       "                                                   PA1  PA2\n",
       "Correlation of (regression) scores with factors   0.99 0.92\n",
       "Multiple R square of scores with factors          0.99 0.84\n",
       "Minimum correlation of possible factor scores     0.98 0.68"
      ]
     },
     "metadata": {},
     "output_type": "display_data"
    }
   ],
   "source": [
    "efaSolution <- fa(r = corMat, nfactors = 2, rotate = \"varimax\", fm = 'pa')\n",
    "efaSolution"
   ]
  },
  {
   "cell_type": "code",
   "execution_count": 22,
   "metadata": {
    "button": false,
    "collapsed": false,
    "deletable": true,
    "jupyter": {
     "outputs_hidden": false
    },
    "run_control": {
     "read_only": false
    }
   },
   "outputs": [
    {
     "data": {
      "text/html": [
       "0.983287416376942"
      ],
      "text/latex": [
       "0.983287416376942"
      ],
      "text/markdown": [
       "0.983287416376942"
      ],
      "text/plain": [
       "[1] 0.9832874"
      ]
     },
     "metadata": {},
     "output_type": "display_data"
    }
   ],
   "source": [
    "pchisq(.39, 4, ncp = 0, lower.tail = FALSE, log.p = FALSE)"
   ]
  },
  {
   "cell_type": "markdown",
   "metadata": {
    "button": false,
    "deletable": true,
    "run_control": {
     "read_only": false
    }
   },
   "source": [
    "The model fit appears to be sufficient. Both factor eigen values are above 1. The loadings on each factor are quite high (>.70 threshold) and the proportion of variance explained == 77%. This is a pretty decent solution. \n",
    "\n",
    "Let's do a quick graph for it! "
   ]
  },
  {
   "cell_type": "code",
   "execution_count": 23,
   "metadata": {
    "button": false,
    "collapsed": false,
    "deletable": true,
    "jupyter": {
     "outputs_hidden": false
    },
    "run_control": {
     "read_only": false
    }
   },
   "outputs": [
    {
     "data": {
      "image/png": "[encoded data removed]",
      "text/plain": [
       "Plot with title “Factor Analysis”"
      ]
     },
     "metadata": {},
     "output_type": "display_data",
     "source": "R display func"
    }
   ],
   "source": [
    "fa.diagram(efaSolution)"
   ]
  },
  {
   "cell_type": "markdown",
   "metadata": {
    "button": false,
    "deletable": true,
    "run_control": {
     "read_only": false
    }
   },
   "source": [
    "This is not the best graph and it should not be presented in publication, but it is a good representation of what we did.\n",
    "\n",
    "Factor 1 causes variables Explain, Teach, Present, and Communi\n",
    "\n",
    "Factor 2 causes variables Workload, Difficulty\n",
    "\n",
    "Name your factors. "
   ]
  },
  {
   "cell_type": "markdown",
   "metadata": {
    "button": false,
    "deletable": true,
    "run_control": {
     "read_only": false
    }
   },
   "source": [
    "## Step 10: Parallel Analysis\n",
    "\n",
    "This analysis is said to be the most robust analysis for identifying the number of factors. However, it is rarely used. It is rather simple:\n",
    "\n",
    "1. You will create multiple random datasets with same *n* observations and *k* factors\n",
    "2. Compute a correlation matrix for each dataset and extract eigenvalues\n",
    "3. If random eigenvalues are larger than those in the PCA or EFA, you know that the values are likely to be simply noise. \n",
    "4. So, you want your eigen values to be larger than those simulated randomly.\n",
    "\n",
    "Typically 100 simulations is recommended, but more is better. You don't want to overload your machine with computations, however. Here is how to do it."
   ]
  },
  {
   "cell_type": "code",
   "execution_count": 24,
   "metadata": {
    "button": false,
    "collapsed": false,
    "deletable": true,
    "jupyter": {
     "outputs_hidden": false
    },
    "run_control": {
     "read_only": false
    }
   },
   "outputs": [
    {
     "name": "stdout",
     "output_type": "stream",
     "text": [
      "Parallel analysis suggests that the number of factors =  2  and the number of components =  2 \n"
     ]
    },
    {
     "data": {
      "image/png": "[encoded data removed]",
      "text/plain": [
       "Plot with title “Parallel Analysis Scree Plots”"
      ]
     },
     "metadata": {},
     "output_type": "display_data",
     "source": "R display func"
    }
   ],
   "source": [
    "fa.parallel(factor.data, n.iter = 100)"
   ]
  },
  {
   "cell_type": "markdown",
   "metadata": {
    "button": false,
    "deletable": true,
    "run_control": {
     "read_only": false
    }
   },
   "source": [
    "A new scree is produced. The red lines represent simulated and resampled data. Blue lines are the actual data. \n",
    "\n",
    "As you can see, the line with x-points shows that 2 components should be extracted. -- this line is compared to the top red line and only 2 points exceed the red line--hence, 2 PCs to extract\n",
    "\n",
    "When it comes to FA, there appears a need for a third component--yet, I am skeptical. The third triangle on the blue line pretty much overlaps with the red line. The distances are much larger in the other cases. \n",
    "\n",
    "** Okay, let's run some FA with 3 factors **"
   ]
  },
  {
   "cell_type": "code",
   "execution_count": 25,
   "metadata": {
    "button": false,
    "collapsed": false,
    "deletable": true,
    "jupyter": {
     "outputs_hidden": false
    },
    "run_control": {
     "read_only": false
    }
   },
   "outputs": [
    {
     "data": {
      "text/plain": [
       "Factor Analysis using method =  pa\n",
       "Call: fa(r = corMat, nfactors = 3, rotate = \"varimax\", fm = \"pa\")\n",
       "Standardized loadings (pattern matrix) based upon correlation matrix\n",
       "            PA1   PA2   PA3   h2    u2 com\n",
       "Present    0.64  0.06  0.70 0.90 0.098 2.0\n",
       "Explain    0.83 -0.04  0.47 0.91 0.091 1.6\n",
       "Communi    0.88  0.06  0.05 0.79 0.211 1.0\n",
       "Teach      0.90  0.08  0.31 0.92 0.083 1.2\n",
       "Workload   0.07  0.85  0.07 0.74 0.263 1.0\n",
       "Difficulty 0.02  0.84 -0.02 0.71 0.288 1.0\n",
       "\n",
       "                       PA1  PA2  PA3\n",
       "SS loadings           2.70 1.45 0.81\n",
       "Proportion Var        0.45 0.24 0.13\n",
       "Cumulative Var        0.45 0.69 0.83\n",
       "Proportion Explained  0.54 0.29 0.16\n",
       "Cumulative Proportion 0.54 0.84 1.00\n",
       "\n",
       "Mean item complexity =  1.3\n",
       "Test of the hypothesis that 3 factors are sufficient.\n",
       "\n",
       "The degrees of freedom for the null model are  15  and the objective function was  4.94\n",
       "The degrees of freedom for the model are 0  and the objective function was  0.01 \n",
       "\n",
       "The root mean square of the residuals (RMSR) is  0.01 \n",
       "The df corrected root mean square of the residuals is  NA \n",
       "\n",
       "Fit based upon off diagonal values = 1\n",
       "Measures of factor score adequacy             \n",
       "                                                   PA1  PA2  PA3\n",
       "Correlation of (regression) scores with factors   0.95 0.92 0.85\n",
       "Multiple R square of scores with factors          0.90 0.84 0.73\n",
       "Minimum correlation of possible factor scores     0.80 0.68 0.46"
      ]
     },
     "metadata": {},
     "output_type": "display_data"
    }
   ],
   "source": [
    "efaSolution2 <- fa(r = corMat, nfactors = 3, rotate = \"varimax\", fm = 'pa')\n",
    "efaSolution2"
   ]
  },
  {
   "cell_type": "markdown",
   "metadata": {
    "button": false,
    "deletable": true,
    "run_control": {
     "read_only": false
    }
   },
   "source": [
    "**Output:**\n",
    "\n",
    "Examinig this output we notice high cross loadings of item Present between PA1 and PA3. Next, the PA3's SS loadings are .81, which does not exceed our threshold = 1. \n",
    "\n",
    "Finally, there is little information about the model fit, because it is a saturated model. \n",
    "\n",
    "In sum, I typically would not advise for retaining the last factor in the current model. "
   ]
  },
  {
   "cell_type": "markdown",
   "metadata": {
    "button": false,
    "deletable": true,
    "run_control": {
     "read_only": false
    }
   },
   "source": [
    "## Step 11: Mini-Validation\n",
    "\n",
    "Here, you want to basically generate factor or component scores with your variables and start building models. I will simply aggregate the variables defined by each component/factor. Then perform linear regression (lm) to see how well my components might predict other variables. \n",
    "\n",
    "Create means for Component/factor 1: course communication -- CC\n",
    "Create means for Component/factor 2: course difficulty -- CD\n",
    "\n",
    "add them to dataset"
   ]
  },
  {
   "cell_type": "code",
   "execution_count": 26,
   "metadata": {
    "button": false,
    "collapsed": false,
    "deletable": true,
    "jupyter": {
     "outputs_hidden": false
    },
    "run_control": {
     "read_only": false
    }
   },
   "outputs": [],
   "source": [
    "data$CC <- rowMeans(data[, 3:6])\n",
    "data$CD <- rowMeans(data[, 7:8])"
   ]
  },
  {
   "cell_type": "markdown",
   "metadata": {
    "button": false,
    "deletable": true,
    "run_control": {
     "read_only": false
    }
   },
   "source": [
    "1. Fit the model examining students' learning experience from communication and difficulty\n",
    "2. Fit the model examining students' retake rate (knowing the course and the professor, would they want to take it again)"
   ]
  },
  {
   "cell_type": "code",
   "execution_count": 27,
   "metadata": {
    "button": false,
    "collapsed": false,
    "deletable": true,
    "jupyter": {
     "outputs_hidden": false
    },
    "run_control": {
     "read_only": false
    }
   },
   "outputs": [
    {
     "data": {
      "text/plain": [
       "\n",
       "Call:\n",
       "lm(formula = learn.Exp ~ CC + CD, data = data)\n",
       "\n",
       "Residuals:\n",
       "     Min       1Q   Median       3Q      Max \n",
       "-0.86917 -0.19247 -0.01364  0.21511  1.05251 \n",
       "\n",
       "Coefficients:\n",
       "            Estimate Std. Error t value Pr(>|t|)    \n",
       "(Intercept) -0.83082    0.32994  -2.518   0.0125 *  \n",
       "CC           0.86724    0.04664  18.595  < 2e-16 ***\n",
       "CD           0.22501    0.04465   5.039 1.01e-06 ***\n",
       "---\n",
       "Signif. codes:  0 ‘***’ 0.001 ‘**’ 0.01 ‘*’ 0.05 ‘.’ 0.1 ‘ ’ 1\n",
       "\n",
       "Residual standard error: 0.3126 on 210 degrees of freedom\n",
       "Multiple R-squared:  0.6515,\tAdjusted R-squared:  0.6482 \n",
       "F-statistic: 196.3 on 2 and 210 DF,  p-value: < 2.2e-16\n"
      ]
     },
     "metadata": {},
     "output_type": "display_data"
    },
    {
     "data": {
      "text/plain": [
       "\n",
       "Call:\n",
       "lm(formula = Retake ~ CC + CD, data = data)\n",
       "\n",
       "Residuals:\n",
       "    Min      1Q  Median      3Q     Max \n",
       "-42.973  -5.694   1.066   5.979  23.479 \n",
       "\n",
       "Coefficients:\n",
       "            Estimate Std. Error t value Pr(>|t|)    \n",
       "(Intercept)   -9.640     11.633  -0.829    0.408    \n",
       "CC            20.329      1.644  12.362  < 2e-16 ***\n",
       "CD            -6.926      1.574  -4.399 1.73e-05 ***\n",
       "---\n",
       "Signif. codes:  0 ‘***’ 0.001 ‘**’ 0.01 ‘*’ 0.05 ‘.’ 0.1 ‘ ’ 1\n",
       "\n",
       "Residual standard error: 11.02 on 210 degrees of freedom\n",
       "Multiple R-squared:  0.4374,\tAdjusted R-squared:  0.4321 \n",
       "F-statistic: 81.64 on 2 and 210 DF,  p-value: < 2.2e-16\n"
      ]
     },
     "metadata": {},
     "output_type": "display_data"
    }
   ],
   "source": [
    "fit1 <- lm(learn.Exp ~ CC + CD, data = data); summary(fit1)\n",
    "fit2 <- lm(Retake ~ CC + CD, data = data); summary(fit2)"
   ]
  },
  {
   "cell_type": "markdown",
   "metadata": {
    "button": false,
    "deletable": true,
    "run_control": {
     "read_only": false
    }
   },
   "source": [
    "**Output:**\n",
    "\n",
    "Both are predictors and explain quite a bit of variance;\n",
    "\n",
    "However, though all students appear to like professors who are better at communication...\n",
    "\n",
    "They tend to think taht difficulty produced better learning experience, yet would not take the course again. \n",
    "\n",
    "Naturally, in more complicated datasets, you can run more complex models. "
   ]
  },
  {
   "cell_type": "markdown",
   "metadata": {
    "button": false,
    "deletable": true,
    "run_control": {
     "read_only": false
    }
   },
   "source": [
    "<h1, align=\"center\"> FIN </h1>\n",
    "\n",
    "\n",
    "## RESOURCES:\n",
    "\n",
    "\n",
    "### Useful Links:\n",
    "\n",
    "- **Data Science** http://bigdatauniversity.com\n",
    "- **Clustering** http://bigdatauniversity.com/bdu-wp/bdu-course/machine-learning-cluster-analysis/\n",
    "- **PCA & CFA** http://bit.ly/1OozM3N\n",
    "\n",
    "- **R-Code** http://www.statmethods.net/advstats/factor.html\n",
    "- **Visualize** http://www.r-bloggers.com/computing-and-visualizing-pca-in-r/\n",
    "\n",
    "### Books:\n",
    "\n",
    "- **Factor Analysis** http://www.amazon.ca/Factor-Analysis-Richard-L-Gorsuch/dp/1138831999/ref=sr_1_2?ie=UTF8&qid=1444011728&sr=8-2&keywords=factor+analysis\n",
    "- **Principal Component Analysis** http://www.amazon.ca/Principal-Components-Analysis-George-Dunteman/dp/0803931042/ref=sr_1_2?ie=UTF8&qid=1444011812&sr=8-2&keywords=principal+component+analysis\n",
    "\n",
    "### Uses in Measurement:\n",
    "\n",
    "- http://scholarship.sha.cornell.edu/cgi/viewcontent.cgi?article=1618&context=articles\n",
    "- http://personal.stevens.edu/~ysakamot/719/week4/scaledevelopment.pdf\n",
    "- http://scholarship.sha.cornell.edu/cgi/viewcontent.cgi?article=1515&context=articles"
   ]
  }
 ],
 "metadata": {
  "kernelspec": {
   "display_name": "R",
   "language": "R",
   "name": "conda-env-r-r"
  },
  "language_info": {
   "codemirror_mode": "r",
   "file_extension": ".r",
   "mimetype": "text/x-r-source",
   "name": "R",
   "pygments_lexer": "r",
   "version": "3.5.1"
  }
 },
 "nbformat": 4,
 "nbformat_minor": 4
}
